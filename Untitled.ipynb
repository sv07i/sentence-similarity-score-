{
 "cells": [
  {
   "cell_type": "code",
   "execution_count": 4,
   "id": "f67d9c74",
   "metadata": {},
   "outputs": [
    {
     "name": "stdout",
     "output_type": "stream",
     "text": [
      "Collecting sentence-transformers\n",
      "  Downloading sentence-transformers-2.2.2.tar.gz (85 kB)\n",
      "Collecting transformers<5.0.0,>=4.6.0\n",
      "  Downloading transformers-4.20.1-py3-none-any.whl (4.4 MB)\n",
      "Requirement already satisfied: tqdm in c:\\users\\patel\\anaconda3\\lib\\site-packages (from sentence-transformers) (4.64.0)\n",
      "Collecting torch>=1.6.0\n",
      "  Downloading torch-1.12.0-cp39-cp39-win_amd64.whl (161.8 MB)\n",
      "Collecting torchvision\n",
      "  Downloading torchvision-0.13.0-cp39-cp39-win_amd64.whl (1.1 MB)\n",
      "Requirement already satisfied: numpy in c:\\users\\patel\\anaconda3\\lib\\site-packages (from sentence-transformers) (1.21.5)\n",
      "Requirement already satisfied: scikit-learn in c:\\users\\patel\\anaconda3\\lib\\site-packages (from sentence-transformers) (1.0.2)\n",
      "Requirement already satisfied: scipy in c:\\users\\patel\\anaconda3\\lib\\site-packages (from sentence-transformers) (1.7.3)\n",
      "Requirement already satisfied: nltk in c:\\users\\patel\\anaconda3\\lib\\site-packages (from sentence-transformers) (3.7)\n",
      "Collecting sentencepiece\n",
      "  Downloading sentencepiece-0.1.96-cp39-cp39-win_amd64.whl (1.1 MB)\n",
      "Collecting huggingface-hub>=0.4.0\n",
      "  Downloading huggingface_hub-0.8.1-py3-none-any.whl (101 kB)\n",
      "Requirement already satisfied: pyyaml>=5.1 in c:\\users\\patel\\anaconda3\\lib\\site-packages (from huggingface-hub>=0.4.0->sentence-transformers) (6.0)\n",
      "Requirement already satisfied: packaging>=20.9 in c:\\users\\patel\\anaconda3\\lib\\site-packages (from huggingface-hub>=0.4.0->sentence-transformers) (21.3)\n",
      "Requirement already satisfied: filelock in c:\\users\\patel\\anaconda3\\lib\\site-packages (from huggingface-hub>=0.4.0->sentence-transformers) (3.6.0)\n",
      "Requirement already satisfied: typing-extensions>=3.7.4.3 in c:\\users\\patel\\anaconda3\\lib\\site-packages (from huggingface-hub>=0.4.0->sentence-transformers) (4.1.1)\n",
      "Requirement already satisfied: requests in c:\\users\\patel\\anaconda3\\lib\\site-packages (from huggingface-hub>=0.4.0->sentence-transformers) (2.27.1)\n",
      "Requirement already satisfied: pyparsing!=3.0.5,>=2.0.2 in c:\\users\\patel\\anaconda3\\lib\\site-packages (from packaging>=20.9->huggingface-hub>=0.4.0->sentence-transformers) (3.0.4)\n",
      "Requirement already satisfied: regex!=2019.12.17 in c:\\users\\patel\\anaconda3\\lib\\site-packages (from transformers<5.0.0,>=4.6.0->sentence-transformers) (2022.3.15)\n",
      "Collecting tokenizers!=0.11.3,<0.13,>=0.11.1\n",
      "  Downloading tokenizers-0.12.1-cp39-cp39-win_amd64.whl (3.3 MB)\n",
      "Requirement already satisfied: colorama in c:\\users\\patel\\anaconda3\\lib\\site-packages (from tqdm->sentence-transformers) (0.4.4)\n",
      "Requirement already satisfied: joblib in c:\\users\\patel\\anaconda3\\lib\\site-packages (from nltk->sentence-transformers) (1.1.0)\n",
      "Requirement already satisfied: click in c:\\users\\patel\\anaconda3\\lib\\site-packages (from nltk->sentence-transformers) (8.0.4)\n",
      "Requirement already satisfied: urllib3<1.27,>=1.21.1 in c:\\users\\patel\\anaconda3\\lib\\site-packages (from requests->huggingface-hub>=0.4.0->sentence-transformers) (1.26.9)\n",
      "Requirement already satisfied: idna<4,>=2.5 in c:\\users\\patel\\anaconda3\\lib\\site-packages (from requests->huggingface-hub>=0.4.0->sentence-transformers) (3.3)\n",
      "Requirement already satisfied: charset-normalizer~=2.0.0 in c:\\users\\patel\\anaconda3\\lib\\site-packages (from requests->huggingface-hub>=0.4.0->sentence-transformers) (2.0.4)\n",
      "Requirement already satisfied: certifi>=2017.4.17 in c:\\users\\patel\\anaconda3\\lib\\site-packages (from requests->huggingface-hub>=0.4.0->sentence-transformers) (2022.5.18.1)\n",
      "Requirement already satisfied: threadpoolctl>=2.0.0 in c:\\users\\patel\\anaconda3\\lib\\site-packages (from scikit-learn->sentence-transformers) (2.2.0)\n",
      "Requirement already satisfied: pillow!=8.3.*,>=5.3.0 in c:\\users\\patel\\anaconda3\\lib\\site-packages (from torchvision->sentence-transformers) (9.0.1)\n",
      "Building wheels for collected packages: sentence-transformers\n",
      "  Building wheel for sentence-transformers (setup.py): started\n",
      "  Building wheel for sentence-transformers (setup.py): finished with status 'done'\n",
      "  Created wheel for sentence-transformers: filename=sentence_transformers-2.2.2-py3-none-any.whl size=125940 sha256=440bbb74d47e1037b7f48a62461b17566f765832fe112bfc0b78f04de27c13b9\n",
      "  Stored in directory: c:\\users\\patel\\appdata\\local\\pip\\cache\\wheels\\71\\67\\06\\162a3760c40d74dd40bc855d527008d26341c2b0ecf3e8e11f\n",
      "Successfully built sentence-transformers\n",
      "Installing collected packages: torch, tokenizers, huggingface-hub, transformers, torchvision, sentencepiece, sentence-transformers\n",
      "Successfully installed huggingface-hub-0.8.1 sentence-transformers-2.2.2 sentencepiece-0.1.96 tokenizers-0.12.1 torch-1.12.0 torchvision-0.13.0 transformers-4.20.1\n",
      "Note: you may need to restart the kernel to use updated packages.\n"
     ]
    }
   ],
   "source": [
    "pip install  -U sentence-transformers"
   ]
  },
  {
   "cell_type": "code",
   "execution_count": 30,
   "id": "38976e4f",
   "metadata": {},
   "outputs": [],
   "source": [
    "sentence1 = [\"I am yash\"]\n",
    "sentence2 = [\"He is yash \"]"
   ]
  },
  {
   "cell_type": "code",
   "execution_count": null,
   "id": "059ac7db",
   "metadata": {},
   "outputs": [],
   "source": []
  },
  {
   "cell_type": "code",
   "execution_count": null,
   "id": "8313acca",
   "metadata": {},
   "outputs": [],
   "source": []
  },
  {
   "cell_type": "code",
   "execution_count": null,
   "id": "0d37ef3a",
   "metadata": {},
   "outputs": [],
   "source": []
  },
  {
   "cell_type": "code",
   "execution_count": null,
   "id": "b9b0c7bc",
   "metadata": {},
   "outputs": [],
   "source": []
  },
  {
   "cell_type": "code",
   "execution_count": 11,
   "id": "3ca1be69",
   "metadata": {},
   "outputs": [],
   "source": [
    "from sentence_transformers import SentenceTransformer, util"
   ]
  },
  {
   "cell_type": "code",
   "execution_count": 2,
   "id": "1c1135f2",
   "metadata": {},
   "outputs": [],
   "source": [
    "from sklearn.metrics.pairwise import cosine_similarity"
   ]
  },
  {
   "cell_type": "code",
   "execution_count": 3,
   "id": "3bd644f1",
   "metadata": {},
   "outputs": [],
   "source": [
    "_model = 'sentence-transformers/bert-base-nli-mean-tokens'"
   ]
  },
  {
   "cell_type": "code",
   "execution_count": 4,
   "id": "75b5eb31",
   "metadata": {},
   "outputs": [
    {
     "data": {
      "application/vnd.jupyter.widget-view+json": {
       "model_id": "37885e853b0d48e89ea727d216676689",
       "version_major": 2,
       "version_minor": 0
      },
      "text/plain": [
       "Downloading:   0%|          | 0.00/438M [00:00<?, ?B/s]"
      ]
     },
     "metadata": {},
     "output_type": "display_data"
    },
    {
     "data": {
      "application/vnd.jupyter.widget-view+json": {
       "model_id": "07518f41d489442db5ffc193a9ad0aa1",
       "version_major": 2,
       "version_minor": 0
      },
      "text/plain": [
       "Downloading:   0%|          | 0.00/53.0 [00:00<?, ?B/s]"
      ]
     },
     "metadata": {},
     "output_type": "display_data"
    },
    {
     "data": {
      "application/vnd.jupyter.widget-view+json": {
       "model_id": "fca81467829345b0ba82bf1c8aea745d",
       "version_major": 2,
       "version_minor": 0
      },
      "text/plain": [
       "Downloading:   0%|          | 0.00/112 [00:00<?, ?B/s]"
      ]
     },
     "metadata": {},
     "output_type": "display_data"
    },
    {
     "data": {
      "application/vnd.jupyter.widget-view+json": {
       "model_id": "291ad9fbffbe45f59219062a0d7d0684",
       "version_major": 2,
       "version_minor": 0
      },
      "text/plain": [
       "Downloading:   0%|          | 0.00/466k [00:00<?, ?B/s]"
      ]
     },
     "metadata": {},
     "output_type": "display_data"
    },
    {
     "data": {
      "application/vnd.jupyter.widget-view+json": {
       "model_id": "a124dd62dc9047d280d2d53f048e85f7",
       "version_major": 2,
       "version_minor": 0
      },
      "text/plain": [
       "Downloading:   0%|          | 0.00/399 [00:00<?, ?B/s]"
      ]
     },
     "metadata": {},
     "output_type": "display_data"
    },
    {
     "data": {
      "application/vnd.jupyter.widget-view+json": {
       "model_id": "d4ae4e2b018d4d75a7f5dc2d0051714c",
       "version_major": 2,
       "version_minor": 0
      },
      "text/plain": [
       "Downloading:   0%|          | 0.00/232k [00:00<?, ?B/s]"
      ]
     },
     "metadata": {},
     "output_type": "display_data"
    },
    {
     "data": {
      "application/vnd.jupyter.widget-view+json": {
       "model_id": "8b755c3d59aa4931b00b7e579ee42d5e",
       "version_major": 2,
       "version_minor": 0
      },
      "text/plain": [
       "Downloading:   0%|          | 0.00/229 [00:00<?, ?B/s]"
      ]
     },
     "metadata": {},
     "output_type": "display_data"
    }
   ],
   "source": [
    "model = SentenceTransformer(_model)"
   ]
  },
  {
   "cell_type": "code",
   "execution_count": 20,
   "id": "a342c42b",
   "metadata": {},
   "outputs": [],
   "source": [
    "embeding1  = model.encode(sentence1, convert_to_tensor=True)"
   ]
  },
  {
   "cell_type": "code",
   "execution_count": 21,
   "id": "ece71565",
   "metadata": {},
   "outputs": [],
   "source": [
    "embeding2 = model.encode(sentence2, convert_to_tensor = True)"
   ]
  },
  {
   "cell_type": "code",
   "execution_count": 24,
   "id": "dd5564c7",
   "metadata": {},
   "outputs": [
    {
     "data": {
      "text/plain": [
       "tensor([[ 0.0510,  0.6406,  1.9189, -0.0175,  0.2103,  0.2663,  0.2913,  0.4801,\n",
       "          0.0126, -0.2049, -0.9875,  0.3046,  0.4244,  0.5232,  1.2387,  0.0668,\n",
       "         -0.6225, -0.1526,  0.1317, -0.4007, -0.2721,  0.4121, -0.3049, -1.1918,\n",
       "         -0.1269, -0.8305,  0.3320, -1.3870, -0.4483, -0.1167, -0.2971, -0.7487,\n",
       "          0.5392, -0.1172, -0.0197,  0.5645, -0.8774,  0.6175,  0.0128, -0.5396,\n",
       "          1.2299,  0.0217,  0.7655,  0.1634, -0.9621, -0.4178,  0.2658, -0.0937,\n",
       "         -0.3567, -1.4245, -0.2803, -0.6207,  0.1658,  0.0702, -0.2130, -0.0069,\n",
       "          0.2550, -0.6263, -0.1975,  0.5970,  1.1057, -0.3002,  0.8461,  0.3553,\n",
       "         -0.1540,  0.9520,  0.4424, -0.5930, -0.3148,  1.3140,  1.0420, -0.4579,\n",
       "         -0.4896,  0.3956, -1.6174, -0.9166,  0.5799,  0.6829,  0.6697,  1.0790,\n",
       "          0.5502, -0.0664,  1.3155,  0.7816, -0.4205,  0.7370, -0.1904,  0.2846,\n",
       "         -1.6536,  0.3157, -0.1664,  0.2034,  0.3395,  0.6343,  0.3184, -0.8310,\n",
       "          0.1422, -0.2600, -0.1051, -0.7798, -0.9586, -0.2500, -0.4995,  0.1697,\n",
       "          0.3865,  0.2760, -0.1217, -0.6642,  0.1118,  0.2141,  0.5401,  0.0622,\n",
       "          0.7210,  0.1980, -0.5769, -0.0972, -1.1224,  0.0086, -0.1796,  0.9333,\n",
       "          0.1205,  0.7426, -0.1618, -0.5563,  0.5034, -0.6365,  0.0267, -0.0931,\n",
       "         -1.3609,  0.3373, -0.3109,  0.4938,  0.6597,  0.1911,  0.0816, -0.0283,\n",
       "          0.0673, -0.3860, -0.3062, -0.3515, -0.9020,  0.6185, -0.9813,  0.5413,\n",
       "         -0.2737, -0.2907,  0.0751,  0.5421, -0.8443,  0.3620, -0.5144,  0.3886,\n",
       "         -0.4399, -0.7669, -0.8262, -0.1605, -0.8396,  0.7242,  0.2099,  0.0806,\n",
       "         -0.4605,  0.4536,  0.3656, -0.6761, -0.1402, -0.2661,  0.4627,  0.2455,\n",
       "          0.9530, -0.2624,  0.7544, -1.0465,  0.1493,  0.6753, -0.1082,  0.2282,\n",
       "          0.8406,  1.2638,  0.9319, -0.3913,  0.2386, -0.0679,  1.1066, -0.7303,\n",
       "          0.1068, -0.4793, -0.4329, -0.1526,  0.7751,  0.5395, -0.1282, -1.1586,\n",
       "         -0.1755, -1.1069, -0.1795,  0.2552,  0.0272,  0.4725,  0.2097,  0.2023,\n",
       "          1.0488, -0.6771, -0.2726, -0.2915,  0.6430,  1.0682, -0.4045,  0.6716,\n",
       "          0.4074, -0.2040, -0.4036, -0.0488,  0.6865, -0.3836, -0.1979, -0.5523,\n",
       "          0.9267, -0.4438, -1.3683, -0.1210,  0.4781,  0.1801, -0.0173,  0.2196,\n",
       "         -0.7625,  0.4321,  0.7366, -0.9422, -0.2229, -1.1642,  0.8444, -0.5828,\n",
       "          0.0237,  0.8418,  0.4613,  0.6351,  0.5440, -0.7193,  0.1047,  0.9136,\n",
       "          0.5637,  1.0490,  0.4630,  0.1758, -1.6484, -0.6172,  1.1424, -0.0155,\n",
       "         -1.2772,  1.3383, -0.0962, -1.2337, -0.0786, -0.1521, -0.4690, -0.2426,\n",
       "         -1.0091, -0.0773,  0.0131, -0.4448, -0.0579,  0.0369, -0.6597, -0.3725,\n",
       "         -0.0640,  0.0467, -0.3763,  0.3000,  0.1410,  0.5942,  0.0854,  0.0383,\n",
       "          0.0951, -0.5353,  0.3877, -0.0201,  0.9387,  0.0469, -0.7566, -0.2698,\n",
       "          0.2217,  0.1952, -2.0780,  0.3235,  0.2018, -0.6011,  0.4871, -0.9676,\n",
       "         -0.5084, -0.1265, -0.5023,  0.0050,  0.4073, -1.2148,  0.6358, -0.4025,\n",
       "          0.5931, -0.1768, -1.3298,  0.1428, -0.7603, -0.3822, -0.6990, -0.1986,\n",
       "          0.8786, -0.3417, -0.1382, -0.2144, -1.5832, -0.6289, -1.8581,  0.1142,\n",
       "          0.4919, -0.1027, -0.2695,  0.4566, -0.7434,  0.8852,  0.3628, -0.4980,\n",
       "          0.1416, -0.0059,  0.0091, -0.1660,  0.7723, -0.0105, -0.6943,  0.5473,\n",
       "         -0.4763, -0.0335,  0.1554, -0.2082,  0.5232, -0.1999, -0.0730,  0.7676,\n",
       "         -0.3078, -0.4710,  0.8730,  0.1730, -0.3255,  0.0781,  0.3821, -0.5704,\n",
       "          1.3528, -0.7859,  0.0931, -1.5852,  0.7346, -0.4661, -0.2325, -0.2980,\n",
       "         -0.9219, -0.3277, -1.0031, -0.1562,  0.5561, -0.7911,  0.1500,  0.4722,\n",
       "         -0.2938,  0.3395, -0.4660, -0.0676, -0.1102, -0.2327,  0.4513, -0.1809,\n",
       "          1.4627,  0.4350,  0.7860, -0.8910,  0.5133,  0.6382,  0.0762,  0.2834,\n",
       "          0.2374, -0.9220,  0.1383, -0.8369,  0.1907, -1.0926, -0.1109,  0.0482,\n",
       "          0.5508,  0.8392, -0.7495, -0.8732,  0.1537, -0.6595,  1.0163,  0.2133,\n",
       "         -0.0882,  0.2409,  0.1655, -1.7049,  0.9698,  0.6966,  0.3713,  0.3068,\n",
       "          0.0414,  0.6585,  0.4453, -0.6525, -0.0064, -0.4811,  0.6869,  0.1722,\n",
       "         -1.2712, -0.6824, -0.1434,  0.1973, -0.1503,  0.3279, -0.5903,  0.5132,\n",
       "          1.0733, -0.9442,  0.6541,  0.6182, -0.1333, -0.6038, -0.0757,  0.1057,\n",
       "         -0.2303, -0.0037, -0.8027,  0.2398, -0.3614, -0.2540, -0.4439,  0.6754,\n",
       "         -0.7522,  0.8071,  0.6058, -0.3075,  0.1379, -0.0861,  0.0648,  0.1994,\n",
       "         -0.0608, -0.0913, -0.8540,  0.4940, -0.0409, -0.5884, -0.4992, -0.6736,\n",
       "          0.2200, -0.0846,  0.4120,  0.7261,  0.2881, -0.0931,  0.4462, -0.3439,\n",
       "         -0.3588, -0.0595,  0.6297, -0.8197,  0.0938, -0.1617, -0.7201, -0.1443,\n",
       "         -0.0475, -0.1434, -1.0665,  0.9253, -0.2389, -0.0750, -0.0270,  0.3146,\n",
       "          0.4246,  0.0376,  0.1658,  0.5975, -1.2731,  0.4849,  0.7095,  0.3802,\n",
       "          0.0668,  0.4637, -0.4338,  0.3620, -0.2535,  0.9908,  0.6082, -0.4878,\n",
       "          1.3833,  0.6423, -1.0047, -1.2297, -1.1171, -0.7851,  0.1316,  0.5516,\n",
       "         -0.5224,  0.2434,  0.0785,  0.1522, -0.2735, -0.3168, -1.1372, -0.6164,\n",
       "          0.7059,  0.1069, -0.5412,  0.4862,  0.0099,  0.1210, -0.9530,  0.8282,\n",
       "         -0.0895, -0.7668, -0.8047,  0.1037,  0.1898, -0.0712,  0.7782, -0.3540,\n",
       "          0.2289,  0.1419, -0.6247, -0.3767, -0.1763,  0.8525,  0.7439, -0.9050,\n",
       "          1.0309,  0.0693,  0.6431, -0.0207, -0.1833,  0.4078,  0.6143,  0.5360,\n",
       "         -1.0455, -1.0233,  0.3906,  0.0275,  0.1783,  0.4349, -0.3974, -0.8224,\n",
       "         -0.8046,  0.2353, -0.2277, -0.6112,  0.5573, -0.7194, -0.3648,  0.0077,\n",
       "         -0.4494, -0.7094, -1.0046, -0.3466, -0.0469,  1.0860,  0.1772, -0.2522,\n",
       "         -0.2687,  0.1166, -0.6079,  0.4557, -0.8486,  0.5157, -0.3735,  0.2814,\n",
       "          0.6374,  0.3201, -0.5277, -0.4521, -0.2579,  0.5757, -0.6276, -0.1049,\n",
       "          0.7534,  0.1285, -1.5595,  0.1017,  0.0468,  0.6779,  0.1327, -0.7142,\n",
       "         -0.6845,  0.2831,  0.9106, -1.2495,  0.2451,  0.7139,  0.7809,  0.1809,\n",
       "          0.2080, -0.4251,  0.4489, -0.2878, -0.4735,  1.1290, -0.3127,  1.0789,\n",
       "          0.0551,  0.3931, -0.9088,  0.7435,  0.2271,  0.7123, -0.0860,  0.0968,\n",
       "          0.6388,  0.7711,  0.3991, -0.4240, -0.2716, -0.2778, -0.1848, -0.8552,\n",
       "         -0.7330, -0.0490,  1.1623,  0.3669, -0.0211,  0.1967, -0.1828, -0.0331,\n",
       "          0.0888, -0.2140,  0.1113, -0.2742, -0.2927,  0.2290,  0.6377,  0.3578,\n",
       "          0.8688,  0.0229, -0.2029,  0.4386,  0.3305, -0.0353,  0.7563,  0.1378,\n",
       "          0.1990, -0.6094,  0.6327, -0.6672, -0.0181, -0.5124,  0.2297,  1.2976,\n",
       "          1.0668,  0.4420, -0.0406, -0.9609, -0.5452,  0.2656,  0.0330,  0.0307,\n",
       "          0.3848,  0.0995, -0.0812, -1.1744,  0.4556, -0.5065, -0.0487, -0.2315,\n",
       "          0.4083, -0.0968, -0.0366,  0.2936, -0.8687, -0.4257,  0.8201,  0.0152,\n",
       "          0.4336, -0.8837, -0.1661, -0.5904,  1.0714,  0.0976,  0.3456,  0.2447,\n",
       "          0.7745,  1.0783,  0.6851,  0.2508, -0.0605, -0.4658,  0.5387, -0.7936,\n",
       "          0.3118, -0.0895,  0.7083,  0.7175,  0.1831, -1.5959,  0.6100,  0.7921,\n",
       "          0.0239, -0.5075,  0.0200, -0.9492, -0.5534, -0.2282, -0.7457, -0.1136,\n",
       "         -1.0518, -1.2072, -0.2443,  0.0874, -0.0531,  0.6805,  0.2803,  0.4019,\n",
       "          0.3357,  1.0705,  0.3637,  1.2876, -0.0633,  0.1343,  0.8198, -0.9495,\n",
       "         -0.4849, -0.1099, -0.3109,  0.4208, -0.3013, -0.1597,  0.5004, -0.4153,\n",
       "         -0.6660, -0.5651, -0.6858, -0.2031, -0.4571,  0.8191,  1.2488, -0.2282,\n",
       "         -0.0944, -0.0026, -0.1155,  0.2545, -0.4644,  0.0101, -0.0168, -0.0071,\n",
       "         -0.9520,  0.0667,  0.2578, -0.0231, -0.8587,  0.3088,  0.0722,  0.0480,\n",
       "         -0.3937, -0.6284, -0.8511,  0.2865, -0.4104,  0.1246,  0.2375, -0.6350,\n",
       "          0.0846,  0.0946,  0.3379, -0.5234, -0.1101,  0.0823,  0.3376,  0.3048]])"
      ]
     },
     "execution_count": 24,
     "metadata": {},
     "output_type": "execute_result"
    }
   ],
   "source": [
    "embeding1"
   ]
  },
  {
   "cell_type": "code",
   "execution_count": null,
   "id": "37ccbb3f",
   "metadata": {},
   "outputs": [],
   "source": []
  },
  {
   "cell_type": "code",
   "execution_count": 31,
   "id": "13b4e1e2",
   "metadata": {},
   "outputs": [],
   "source": [
    "similarity = util.pytorch_cos_sim(embeding1, embeding2)"
   ]
  },
  {
   "cell_type": "code",
   "execution_count": 37,
   "id": "fd6ab02e",
   "metadata": {},
   "outputs": [
    {
     "data": {
      "text/plain": [
       "<function Tensor.abs_>"
      ]
     },
     "execution_count": 37,
     "metadata": {},
     "output_type": "execute_result"
    }
   ],
   "source": [
    "similarity"
   ]
  },
  {
   "cell_type": "code",
   "execution_count": null,
   "id": "5b1d2dda",
   "metadata": {},
   "outputs": [],
   "source": []
  },
  {
   "cell_type": "code",
   "execution_count": null,
   "id": "547050ce",
   "metadata": {},
   "outputs": [],
   "source": []
  },
  {
   "cell_type": "code",
   "execution_count": 23,
   "id": "b7f5b792",
   "metadata": {},
   "outputs": [],
   "source": [
    "import pickle"
   ]
  },
  {
   "cell_type": "code",
   "execution_count": 27,
   "id": "d81c1d8c",
   "metadata": {},
   "outputs": [],
   "source": [
    "pickle.dump(model,open('model.pkl','wb'))\n",
    "pickle.dump(similarity,open('similarity.pkl','wb'))"
   ]
  },
  {
   "cell_type": "code",
   "execution_count": null,
   "id": "f2b05cb8",
   "metadata": {},
   "outputs": [],
   "source": []
  }
 ],
 "metadata": {
  "kernelspec": {
   "display_name": "Python 3 (ipykernel)",
   "language": "python",
   "name": "python3"
  },
  "language_info": {
   "codemirror_mode": {
    "name": "ipython",
    "version": 3
   },
   "file_extension": ".py",
   "mimetype": "text/x-python",
   "name": "python",
   "nbconvert_exporter": "python",
   "pygments_lexer": "ipython3",
   "version": "3.9.7"
  }
 },
 "nbformat": 4,
 "nbformat_minor": 5
}
